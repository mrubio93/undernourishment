{
  "cells": [
    {
      "cell_type": "markdown",
      "metadata": {
        "id": "view-in-github",
        "colab_type": "text"
      },
      "source": [
        "<a href=\"https://colab.research.google.com/github/mrubio93/undernourishment/blob/main/machine_learning.ipynb\" target=\"_parent\"><img src=\"https://colab.research.google.com/assets/colab-badge.svg\" alt=\"Open In Colab\"/></a>"
      ]
    },
    {
      "cell_type": "code",
      "execution_count": 4,
      "metadata": {
        "id": "lUh7LeTnYZua",
        "colab": {
          "base_uri": "https://localhost:8080/",
          "height": 286
        },
        "outputId": "c8b9f999-40f3-4c8a-cdf8-c166af0b1076"
      },
      "outputs": [
        {
          "output_type": "execute_result",
          "data": {
            "text/plain": [
              "<matplotlib.axes._subplots.AxesSubplot at 0x7f5c20582290>"
            ]
          },
          "metadata": {},
          "execution_count": 4
        },
        {
          "output_type": "display_data",
          "data": {
            "text/plain": [
              "<Figure size 432x288 with 2 Axes>"
            ],
            "image/png": "[encoded data removed]"
          },
          "metadata": {
            "needs_background": "light"
          }
        }
      ],
      "source": [
        "import pandas as pd\n",
        "import os\n",
        "import seaborn as sn\n",
        "\n",
        "path = os.getcwd()\n",
        "# Import data from the current working directory\n",
        "df = pd.read_excel(path + \"/data.xlsx\")\n",
        "df_groups = df.groupby(['Area', 'Year Code'], as_index = False).sum()\n",
        "\n",
        "# Rename columns\n",
        "df_groups = df_groups.rename(columns={'Share of dietary energy supply derived from cereals, roots and tubers (kcal/cap/day) (3-year average)': 'carbs'})\n",
        "df_groups = df_groups.rename(columns={'Average protein supply (g/cap/day) (3-year average)': 'proteins'})\n",
        "df_groups = df_groups.rename(columns={'Average fat supply (g/cap/day) (3-year average)': 'fats'})\n",
        "df_groups = df_groups.rename(columns={'Prevalence of undernourishment (percent) (3-year average)': 'undernourishment'})\n",
        "df_groups = df_groups.reset_index()\n",
        "\n",
        "# Delete rows = 0\n",
        "for i in df_groups.columns[3:]:\n",
        "    df_groups = df_groups.drop(df_groups[df_groups[i] == 0].index)\n",
        "\n",
        "import numpy as np\n",
        "from sklearn.svm import SVR\n",
        "import matplotlib.pyplot as plt\n",
        "from sklearn.preprocessing import StandardScaler\n",
        "from sklearn.model_selection import KFold\n",
        "from sklearn.model_selection import GridSearchCV\n",
        "from sklearn.kernel_ridge import KernelRidge\n",
        "from matplotlib.colors import Normalize\n",
        "\n",
        "class MidpointNormalize(Normalize):\n",
        "    def __init__(self, vmin=None, vmax=None, midpoint=None, clip=False):\n",
        "        self.midpoint = midpoint\n",
        "        Normalize.__init__(self, vmin, vmax, clip)\n",
        "\n",
        "\n",
        "\n",
        "    def __call__(self, value, clip=None):\n",
        "        x, y = [self.vmin, self.midpoint, self.vmax], [0, 0.5, 1]\n",
        "        return np.ma.masked_array(np.interp(value, x, y))\n",
        "\n",
        "# Define predictors and targets\n",
        "df_predictors = df_groups[['proteins','fats','carbs']]\n",
        "df_target = df_groups[['undernourishment']]\n",
        "\n",
        "# Prepare data\n",
        "y = df_target['undernourishment'].to_numpy()\n",
        "\n",
        "# Correlation matrix\n",
        "corr = df_predictors.corr()\n",
        "sn.heatmap(corr, annot=True)"
      ]
    },
    {
      "cell_type": "code",
      "source": [
        "#%% Feature selection and scaling\n",
        "from sklearn.feature_selection import SelectKBest\n",
        "from sklearn.feature_selection import f_regression\n",
        "\n",
        "X = df_predictors.to_numpy()\n",
        "\n",
        "# Select best variable\n",
        "X.shape\n",
        "X = SelectKBest(f_regression, k = 1).fit_transform(X, y)\n",
        "\n",
        "# Scale the variable to see how it works:\n",
        "scaler = StandardScaler().fit(X) # scaler keep data (mean and sd) from X, useful for further scaling with same parameters\n",
        "X = scaler.fit_transform(X)\n"
      ],
      "metadata": {
        "id": "ZjKg4x46vtV-"
      },
      "execution_count": 5,
      "outputs": []
    },
    {
      "cell_type": "code",
      "source": [
        "#%% linear regression\n",
        "# https://scikit-learn.org/stable/modules/generated/sklearn.linear_model.LinearRegression.html\n",
        "from sklearn import linear_model\n",
        "\n",
        "reg = linear_model.LinearRegression()\n",
        "reg.fit(X, df_target.undernourishment)\n",
        "\n",
        "# Model coeficients: weights\n",
        "reg.coef_\n",
        "reg.intercept_\n",
        "\n",
        "# Predict one value (example)\n",
        "reg.predict([[51.4]])\n",
        "\n",
        "# R^2\n",
        "print(reg.score(X, df_target.undernourishment, sample_weight=None))"
      ],
      "metadata": {
        "id": "5zZHH-5UXqXV",
        "colab": {
          "base_uri": "https://localhost:8080/"
        },
        "outputId": "a3c33858-b446-44c5-b4d8-ea3d3aefad39"
      },
      "execution_count": 7,
      "outputs": [
        {
          "output_type": "stream",
          "name": "stdout",
          "text": [
            "0.5586642795827923\n"
          ]
        }
      ]
    },
    {
      "cell_type": "code",
      "execution_count": 9,
      "metadata": {
        "colab": {
          "base_uri": "https://localhost:8080/"
        },
        "id": "WlQ-7s8udozc",
        "outputId": "d793065f-6e88-4081-caa6-eb23b4633d7c"
      },
      "outputs": [
        {
          "output_type": "stream",
          "name": "stdout",
          "text": [
            "         Method       All  Proteins and Carbs  Proteins and Fats  \\\n",
            "0     SVR (rbf)  0.719799            0.696972           0.705869   \n",
            "1  Kernel Ridge  0.729724            0.701985           0.704850   \n",
            "2  SVR (linear)  0.509050            0.505930           0.481710   \n",
            "3    SVR (poly) -0.082007           -0.153079          -0.164442   \n",
            "\n",
            "   Carbs and Fats  Proteins  \n",
            "0        0.534570  0.685688  \n",
            "1        0.560571  0.691863  \n",
            "2        0.348949  0.482440  \n",
            "3       -0.147930 -0.190651  \n"
          ]
        }
      ],
      "source": [
        "#%% Methods (svr, kr)\n",
        "# https://scikit-learn.org/stable/auto_examples/miscellaneous/plot_kernel_ridge_regression.html?highlight=kernel%20ridge\n",
        "\n",
        "# Grid Search\n",
        "C_range = (1, 50, 100)\n",
        "gamma_range = (0.01, 0.1, 0.5, 1)\n",
        "cv = KFold(n_splits=5)\n",
        "\n",
        "svr = GridSearchCV(\n",
        "    SVR(kernel=\"rbf\", gamma=0.01),\n",
        "    param_grid={\"C\": C_range, \"gamma\": gamma_range}, cv=cv, n_jobs=-1\n",
        ")\n",
        "\n",
        "kr = GridSearchCV(\n",
        "    KernelRidge(kernel=\"rbf\", gamma=0.01),\n",
        "    param_grid={\"alpha\": [1, 0.1, 1e-2, 1e-3], \"gamma\": gamma_range}, cv=cv, n_jobs=-1\n",
        ")\n",
        "\n",
        "svr_lin = GridSearchCV(\n",
        "    SVR(kernel=\"linear\", gamma=0.01),\n",
        "    param_grid={\"C\": C_range, \"gamma\": gamma_range}, cv=cv, n_jobs=-1\n",
        ")\n",
        "\n",
        "svr_poly = GridSearchCV(\n",
        "    SVR(kernel=\"poly\", gamma=0.01, degree=2),\n",
        "    param_grid={\"C\": C_range, \"gamma\": gamma_range}, cv=cv, n_jobs=-1\n",
        ")\n",
        "\n",
        "# redefine variables\n",
        "df_all_var = df_groups[['carbs','proteins','fats']]\n",
        "df_prot_carbs = df_groups[['carbs', 'proteins']]\n",
        "df_prot_fats = df_groups[['proteins','fats']]\n",
        "df_carbs_fats = df_groups[['carbs','fats']]\n",
        "df_prots = df_groups[['proteins']]\n",
        "df_all_var.name, df_prot_carbs.name, df_prot_fats.name, df_carbs_fats.name, df_prots.name= \"All\", \"Proteins and Carbs\",\\\n",
        "    \"Proteins and Fats\", \"Carbs and Fats\", \"Proteins\"\n",
        "\n",
        "# Create a df with all the datasets to try\n",
        "df_list = [df_all_var, df_prot_carbs, df_prot_fats, df_carbs_fats, df_prots]\n",
        "list_method = {\"Method\" : [\"SVR (rbf)\", \"Kernel Ridge\", \"SVR (linear)\", \"SVR (poly)\"]}\n",
        "\n",
        "new_df = pd.DataFrame(data = list_method)\n",
        "\n",
        "# Run the models for the different datasets stored in df_list\n",
        "for array in df_list:\n",
        "    list_scores = []\n",
        "    name = array.name\n",
        "    X = array.to_numpy()\n",
        "    scaler = StandardScaler().fit(X) # scaler conserva los datos (media y sd) de X, para escalar futuros inputs\n",
        "    X = scaler.fit_transform(X)\n",
        "    svr.fit(X,y)\n",
        "    kr.fit(X, y)\n",
        "    svr_lin.fit(X,y)\n",
        "    svr_poly.fit(X, y)\n",
        "    \n",
        "    print(\n",
        "        \"The best parameters for SVR (rbf) on\", name,\"are %s with a score of %0.2f\"\n",
        "        % (svr.best_params_, svr.best_score_)\n",
        "    )\n",
        "    \n",
        "    print(\n",
        "        \"The best parameters for Kernel Ridge on\", name,\"are %s with a score of %0.2f\"\n",
        "        % (kr.best_params_, kr.best_score_)\n",
        "    )\n",
        "    \n",
        "    print(\n",
        "        \"The best parameters for SVR (linear)\", name,\"are %s with a score of %0.2f\"\n",
        "        % (svr_lin.best_params_, svr_lin.best_score_)\n",
        "    )\n",
        "    \n",
        "    print(\n",
        "        \"The best parameters for SVR (poly)\", name,\"are %s with a score of %0.2f\"\n",
        "        % (svr_poly.best_params_, svr_poly.best_score_)\n",
        "    )\n",
        "    list_scores = [svr.best_score_, kr.best_score_, svr_lin.best_score_, svr_poly.best_score_]\n",
        "    new_df[name] = list_scores\n",
        "    \n",
        "    # Validation plots\n",
        "    # SVR\n",
        "    scores = svr.cv_results_[\"mean_test_score\"].reshape(len(C_range), len(gamma_range))\n",
        "    plt.figure(figsize=(8, 6))\n",
        "    plt.subplots_adjust(left=0.2, right=0.95, bottom=0.15, top=0.95)\n",
        "    plt.imshow(\n",
        "    scores,\n",
        "    interpolation=\"nearest\",\n",
        "    cmap=plt.cm.hot,\n",
        "    norm=MidpointNormalize(vmin=0.5, midpoint=0.6))\n",
        "    plt.xlabel(\"gamma\")\n",
        "    plt.ylabel(\"C\")\n",
        "    plt.colorbar()\n",
        "    plt.xticks(np.arange(len(gamma_range)), gamma_range, rotation=45)\n",
        "    plt.yticks(np.arange(len(C_range)), C_range)\n",
        "    plt.title(f\"Validation accuracy - SVR - {name}\")\n",
        "    plt.show()\n",
        "    \n",
        "    #Kernel Ridge\n",
        "    scores = kr.cv_results_[\"mean_test_score\"].reshape(4, len(gamma_range))\n",
        "    plt.figure(figsize=(8, 6))\n",
        "    plt.subplots_adjust(left=0.2, right=0.95, bottom=0.15, top=0.95)\n",
        "    plt.imshow(\n",
        "    scores,\n",
        "    interpolation=\"nearest\",\n",
        "    cmap=plt.cm.hot,\n",
        "    norm=MidpointNormalize(vmin=0.5, midpoint=0.6))\n",
        "    plt.xlabel(\"gamma\")\n",
        "    plt.ylabel(\"alpha\")\n",
        "    plt.colorbar()\n",
        "    plt.xticks(np.arange(len(gamma_range)), gamma_range, rotation=45)\n",
        "    plt.yticks(np.arange(4), (0.01, 0.1, 1e-2, 1e-3))\n",
        "    plt.title(f\"Validation accuracy - Kernel Ridge - {name}\")\n",
        "    plt.show()\n",
        "\n",
        "print(new_df)\n"
      ]
    },
    {
      "cell_type": "code",
      "execution_count": 10,
      "metadata": {
        "id": "7bITEKpKgDAT",
        "colab": {
          "base_uri": "https://localhost:8080/"
        },
        "outputId": "565620d9-677e-4274-af6f-abb8d29c80cb"
      },
      "outputs": [
        {
          "output_type": "stream",
          "name": "stdout",
          "text": [
            "The result for All  is:  0.69437615475715 and params are {'hidden_layer_sizes': (100,)}\n",
            "The result for Proteins and Carbs  is:  0.6916627120942477 and params are {'hidden_layer_sizes': (150,)}\n",
            "The result for Proteins and Fats  is:  0.6854117763134882 and params are {'hidden_layer_sizes': (150,)}\n",
            "The result for Carbs and Fats  is:  0.5324531159523158 and params are {'hidden_layer_sizes': (150,)}\n",
            "The result for Proteins  is:  0.6755822590867531 and params are {'hidden_layer_sizes': (150,)}\n"
          ]
        }
      ],
      "source": [
        "#%% Neural network\n",
        "# https://scikit-learn.org/stable/modules/generated/sklearn.neural_network.MLPRegressor.html#sklearn.neural_network.MLPRegressor\n",
        "from sklearn.neural_network import MLPRegressor\n",
        "from sklearn.model_selection import train_test_split\n",
        "\n",
        "param_grid = {\"hidden_layer_sizes\" : [(100,), (150,)]}\n",
        "nngrid = GridSearchCV(MLPRegressor(random_state=1, max_iter=5000, solver=\"adam\"), param_grid)\n",
        "\n",
        "for array in df_list:\n",
        "    list_scores = []\n",
        "    name = array.name\n",
        "    X = array.to_numpy()\n",
        "    scaler = StandardScaler().fit(X)\n",
        "    X = scaler.fit_transform(X)\n",
        "    y = df_target['undernourishment'].to_numpy()\n",
        "    X_train, X_test, y_train, y_test = train_test_split(X, y, test_size=0.2, random_state =1)\n",
        "    nngrid.fit(X, y)\n",
        "\n",
        "    print(\"The result for\",name,\" is: \", nngrid.best_score_, \"and params are\", nngrid.best_params_)\n"
      ]
    },
    {
      "cell_type": "code",
      "execution_count": 11,
      "metadata": {
        "id": "CwdjJrVOgF-7",
        "colab": {
          "base_uri": "https://localhost:8080/",
          "height": 661
        },
        "outputId": "53ec196f-4e55-4e29-8bbc-ddfccf9518c5"
      },
      "outputs": [
        {
          "output_type": "stream",
          "name": "stderr",
          "text": [
            "/usr/local/lib/python3.7/dist-packages/ipykernel_launcher.py:22: SettingWithCopyWarning: \n",
            "A value is trying to be set on a copy of a slice from a DataFrame.\n",
            "Try using .loc[row_indexer,col_indexer] = value instead\n",
            "\n",
            "See the caveats in the documentation: https://pandas.pydata.org/pandas-docs/stable/user_guide/indexing.html#returning-a-view-versus-a-copy\n",
            "/usr/local/lib/python3.7/dist-packages/ipykernel_launcher.py:23: SettingWithCopyWarning: \n",
            "A value is trying to be set on a copy of a slice from a DataFrame.\n",
            "Try using .loc[row_indexer,col_indexer] = value instead\n",
            "\n",
            "See the caveats in the documentation: https://pandas.pydata.org/pandas-docs/stable/user_guide/indexing.html#returning-a-view-versus-a-copy\n"
          ]
        },
        {
          "output_type": "stream",
          "name": "stdout",
          "text": [
            "The best parameters for SVR (rbf) on Cluster 1 are {'C': 1, 'gamma': 0.01} with a score of 0.12\n",
            "The best parameters for Kernel Ridge on Cluster 1 are {'alpha': 0.1, 'gamma': 0.01} with a score of 0.11\n",
            "The best parameters for SVR (linear) Cluster 1 are {'C': 50, 'gamma': 0.01} with a score of 0.13\n",
            "The best parameters for SVR (poly) Cluster 1 are {'C': 1, 'gamma': 0.01} with a score of -0.10\n",
            "The best parameters for SVR (rbf) on Cluster 2 are {'C': 1, 'gamma': 0.1} with a score of 0.42\n",
            "The best parameters for Kernel Ridge on Cluster 2 are {'alpha': 0.1, 'gamma': 0.01} with a score of 0.41\n",
            "The best parameters for SVR (linear) Cluster 2 are {'C': 1, 'gamma': 0.01} with a score of 0.32\n",
            "The best parameters for SVR (poly) Cluster 2 are {'C': 1, 'gamma': 0.01} with a score of -0.08\n",
            "The best parameters for SVR (rbf) on Cluster 3 are {'C': 50, 'gamma': 0.01} with a score of -0.01\n",
            "The best parameters for Kernel Ridge on Cluster 3 are {'alpha': 0.1, 'gamma': 0.01} with a score of -0.26\n",
            "The best parameters for SVR (linear) Cluster 3 are {'C': 100, 'gamma': 0.01} with a score of -0.04\n",
            "The best parameters for SVR (poly) Cluster 3 are {'C': 1, 'gamma': 0.01} with a score of -0.05\n"
          ]
        },
        {
          "output_type": "display_data",
          "data": {
            "text/plain": [
              "<Figure size 432x288 with 1 Axes>"
            ],
            "image/png": "[encoded data removed]"
          },
          "metadata": {
            "needs_background": "light"
          }
        }
      ],
      "source": [
        "#%% Build classifier\n",
        "from sklearn.cluster import KMeans\n",
        "from sklearn.preprocessing import MinMaxScaler\n",
        "\n",
        "# =============================================================================\n",
        "# plt.xlabel('protein')\n",
        "# plt.ylabel('fat')\n",
        "# plt.plot(df_predictors.proteins,df_predictors.fats,color='blue',marker='+',linestyle='')\n",
        "# =============================================================================\n",
        "df_cluster = df_predictors\n",
        "scaler = MinMaxScaler().fit(df_predictors)\n",
        "\n",
        "X_means = scaler.transform(df_predictors)\n",
        "x_df = pd.DataFrame(X_means)\n",
        "\n",
        "plt.xlabel('protein')\n",
        "plt.ylabel('fat')\n",
        "plt.plot([item[0] for item in X_means],[item[1] for item in X_means],color='blue',marker='+',linestyle='')\n",
        "\n",
        "km = KMeans(n_clusters=3)\n",
        "y_predicted = km.fit_predict(x_df[[0,1]])\n",
        "df_cluster['cluster'] = y_predicted\n",
        "df_cluster[\"under\"] = df_groups[\"undernourishment\"]\n",
        "\n",
        "\n",
        "df1 = df_cluster[df_cluster.cluster==0]\n",
        "df2 = df_cluster[df_cluster.cluster==1]\n",
        "df3 = df_cluster[df_cluster.cluster==2]\n",
        "\n",
        "plt.scatter(df1[\"proteins\"],df1[\"fats\"],color='green')\n",
        "plt.scatter(df2[\"proteins\"],df2[\"fats\"],color='red')\n",
        "plt.scatter(df3[\"proteins\"],df3[\"fats\"],color='black')\n",
        "\n",
        "plt.scatter(km.cluster_centers_[:,0],km.cluster_centers_[:,1],color='purple',marker='*',label='centroid')\n",
        "plt.xlabel('protein')\n",
        "plt.ylabel('fats')\n",
        "plt.legend()\n",
        "\n",
        "df1.name, df2.name, df3.name = \"Cluster 1\", \"Cluster 2\", \"Cluster 3\"\n",
        "\n",
        "df_list = [df1, df2, df3]\n",
        "list_method = {\"Method\" : [\"SVR (rbf)\", \"Kernel Ridge\", \"SVR (linear)\", \"SVR (poly)\"]}\n",
        "\n",
        "new_df_c = pd.DataFrame(data = list_method)\n",
        "\n",
        "for array in df_list:\n",
        "    name = array.name\n",
        "    y = array[\"under\"].to_numpy()\n",
        "    array = array[['carbs','proteins','fats']]\n",
        "    list_scores = []\n",
        "    X = array.to_numpy()\n",
        "    scaler = StandardScaler().fit(X) # scaler conserva los datos (media y sd) de X, para escalar futuros inputs\n",
        "    X = scaler.fit_transform(X)\n",
        "    svr.fit(X,y)\n",
        "    kr.fit(X, y)\n",
        "    svr_lin.fit(X,y)\n",
        "    svr_poly.fit(X, y)\n",
        "    \n",
        "    print(\n",
        "        \"The best parameters for SVR (rbf) on\", name,\"are %s with a score of %0.2f\"\n",
        "        % (svr.best_params_, svr.best_score_)\n",
        "    )\n",
        "    \n",
        "    print(\n",
        "        \"The best parameters for Kernel Ridge on\", name,\"are %s with a score of %0.2f\"\n",
        "        % (kr.best_params_, kr.best_score_)\n",
        "    )\n",
        "    \n",
        "    print(\n",
        "        \"The best parameters for SVR (linear)\", name,\"are %s with a score of %0.2f\"\n",
        "        % (svr_lin.best_params_, svr_lin.best_score_)\n",
        "    )\n",
        "    \n",
        "    print(\n",
        "        \"The best parameters for SVR (poly)\", name,\"are %s with a score of %0.2f\"\n",
        "        % (svr_poly.best_params_, svr_poly.best_score_)\n",
        "    )\n",
        "    list_scores = [svr.best_score_, kr.best_score_, svr_lin.best_score_, svr_poly.best_score_]\n",
        "    new_df_c[name] = list_scores\n",
        "print(new_df_c)"
      ]
    },
    {
      "cell_type": "code",
      "execution_count": null,
      "metadata": {
        "id": "_BhW5JaIgGvb",
        "colab": {
          "base_uri": "https://localhost:8080/",
          "height": 296
        },
        "outputId": "c39bebfa-853a-4832-ee8e-3dd760f6d3f3"
      },
      "outputs": [
        {
          "output_type": "execute_result",
          "data": {
            "text/plain": [
              "[<matplotlib.lines.Line2D at 0x7f928d5f4450>]"
            ]
          },
          "metadata": {},
          "execution_count": 15
        },
        {
          "output_type": "display_data",
          "data": {
            "text/plain": [
              "<Figure size 432x288 with 1 Axes>"
            ],
            "image/png": "[encoded data removed]"
          },
          "metadata": {
            "needs_background": "light"
          }
        }
      ],
      "source": [
        "#%% Scree plot\n",
        "\n",
        "sse = []\n",
        "k_rng = range(1,10)\n",
        "for k in k_rng:\n",
        "    km = KMeans(n_clusters=k)\n",
        "    km.fit(x_df[[0,1]])\n",
        "    sse.append(km.inertia_)\n",
        "\n",
        "plt.xlabel('K')\n",
        "plt.ylabel('Sum of squared error')\n",
        "plt.plot(k_rng,sse)"
      ]
    },
    {
      "cell_type": "code",
      "source": [
        "# Neural Network\n",
        "\n",
        "from sklearn.neural_network import MLPRegressor\n",
        "\n",
        "regr = MLPRegressor(random_state=1, max_iter=500).fit(X_train, y_train)\n",
        "\n",
        "regr.predict(X_test[:2])\n",
        "regr.score(X_test, y_test)"
      ],
      "metadata": {
        "colab": {
          "base_uri": "https://localhost:8080/"
        },
        "id": "cQpIEgLVcfur",
        "outputId": "fa556efc-81e0-4e4e-e1dc-1195030368b4"
      },
      "execution_count": null,
      "outputs": [
        {
          "output_type": "execute_result",
          "data": {
            "text/plain": [
              "0.7568769268829592"
            ]
          },
          "metadata": {},
          "execution_count": 16
        }
      ]
    },
    {
      "cell_type": "code",
      "source": [
        "#%% Neural network\n",
        "from sklearn.neural_network import MLPRegressor\n",
        "from sklearn.model_selection import train_test_split\n",
        "\n",
        "X = df_predictors.to_numpy()\n",
        "y = df_target['undernourishment'].to_numpy()\n",
        "# escalar las columnas:\n",
        "scaler = StandardScaler().fit(X) # scaler conserva los datos (media y sd) de X, para escalar futuros inputs\n",
        "X = scaler.fit_transform(X)\n",
        "\n",
        "X_train, X_test, y_train, y_test = train_test_split(X, y, random_state=1)\n",
        "regr = MLPRegressor(random_state=1, max_iter=500, solver=\"lbfgs\").fit(X_train, y_train)\n",
        "\n",
        "regr.predict(X_test[:2])\n",
        "\n",
        "print(regr.score(X_test, y_test))"
      ],
      "metadata": {
        "id": "GrlE8XkOEhCg"
      },
      "execution_count": null,
      "outputs": []
    }
  ],
  "metadata": {
    "colab": {
      "collapsed_sections": [],
      "name": "machine_learning.ipynb",
      "provenance": [],
      "include_colab_link": true
    },
    "kernelspec": {
      "display_name": "Python 3",
      "name": "python3"
    },
    "language_info": {
      "name": "python"
    }
  },
  "nbformat": 4,
  "nbformat_minor": 0
}